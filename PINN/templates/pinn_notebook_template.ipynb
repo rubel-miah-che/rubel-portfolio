{
 "cells": [
  {
   "cell_type": "markdown",
   "metadata": {},
   "source": [
    "# PINN Prototype Notebook\\n",
    "Use this notebook to prototype a 1D PINN (toy example)."
   ]
  }
 ],
 "metadata": {
  "kernelspec": {
   "display_name": "Python 3",
   "language": "python",
   "name": "python3"
  }
 },
 "nbformat": 4,
 "nbformat_minor": 2
}
